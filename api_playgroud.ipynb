{
 "cells": [
  {
   "cell_type": "code",
   "execution_count": 4,
   "metadata": {},
   "outputs": [],
   "source": [
    "import openai\n",
    "import json\n",
    "import os"
   ]
  },
  {
   "cell_type": "code",
   "execution_count": 5,
   "metadata": {},
   "outputs": [],
   "source": [
    "# Reading api keys from file\n",
    "api_key = open('api_key.txt', 'r').read().strip('\\n')\n",
    "api_key\n",
    "openai.api_key = api_key"
   ]
  },
  {
   "cell_type": "code",
   "execution_count": 6,
   "metadata": {},
   "outputs": [],
   "source": [
    "def build_usr_dict(input_str):\n",
    "    \"\"\"_summary_\n",
    "\n",
    "    Args:\n",
    "        input_str (str): _description_\n",
    "\n",
    "    Returns:\n",
    "        Dictionary: _description_\n",
    "    \"\"\"\n",
    "    return {\"role\": \"user\", \"content\": input_str}\n",
    "\n",
    "def build_assist_dict(reply_str):\n",
    "    \"\"\"_summary_\n",
    "\n",
    "    Args:\n",
    "        reply_str (str): _description_\n",
    "\n",
    "    Returns:\n",
    "        Dictionary: _description_\n",
    "    \"\"\"\n",
    "    return {'role': 'assistant', 'content': reply_str}"
   ]
  },
  {
   "cell_type": "code",
   "execution_count": 7,
   "metadata": {},
   "outputs": [
    {
     "name": "stdout",
     "output_type": "stream",
     "text": [
      "{\n",
      "  \"id\": \"chatcmpl-8GaILPlKfnJcykSUab6G2JF4gvXYx\",\n",
      "  \"object\": \"chat.completion\",\n",
      "  \"created\": 1698963457,\n",
      "  \"model\": \"gpt-3.5-turbo-0613\",\n",
      "  \"choices\": [\n",
      "    {\n",
      "      \"index\": 0,\n",
      "      \"message\": {\n",
      "        \"role\": \"assistant\",\n",
      "        \"content\": \"The Chinese New Year in 2023 is on Sunday, January 22nd.\"\n",
      "      },\n",
      "      \"finish_reason\": \"stop\"\n",
      "    }\n",
      "  ],\n",
      "  \"usage\": {\n",
      "    \"prompt_tokens\": 18,\n",
      "    \"completion_tokens\": 17,\n",
      "    \"total_tokens\": 35\n",
      "  }\n",
      "}\n"
     ]
    }
   ],
   "source": [
    "# This cell mimic one conversation between \n",
    "# a user and gpt\n",
    "\n",
    "# The list to store all the conversation(list of dict)\n",
    "# to do: try to make a db from it rather than \n",
    "# a variable in code\n",
    "conversation_history = []\n",
    "\n",
    "# grap user input and build the meesage dic sepecfic the user role . \n",
    "user_input = input(\">: \" )\n",
    "user_msg = build_usr_dict(user_input)\n",
    "\n",
    "# Append the user msg to history\n",
    "conversation_history.append(user_msg)\n",
    "\n",
    "completion = openai.ChatCompletion.create(\n",
    "  model=\"gpt-3.5-turbo\",  #GPT Model\n",
    "  messages = conversation_history\n",
    ")\n",
    "\n",
    "# Extract the reply msg from the API\n",
    "reply_str = completion['choices'][0]['message']['content']\n",
    "reply_dic = build_assist_dict(reply_str)\n",
    "conversation_history.append(reply_dic)\n",
    "\n",
    "\n",
    "print(completion)\n",
    "\n"
   ]
  },
  {
   "cell_type": "code",
   "execution_count": 8,
   "metadata": {},
   "outputs": [
    {
     "data": {
      "text/plain": [
       "[{'role': 'user', 'content': 'When is the chinese new year in 2023?'},\n",
       " {'role': 'assistant',\n",
       "  'content': 'The Chinese New Year in 2023 is on Sunday, January 22nd.'}]"
      ]
     },
     "execution_count": 8,
     "metadata": {},
     "output_type": "execute_result"
    }
   ],
   "source": [
    "conversation_history"
   ]
  },
  {
   "cell_type": "code",
   "execution_count": null,
   "metadata": {},
   "outputs": [],
   "source": []
  }
 ],
 "metadata": {
  "kernelspec": {
   "display_name": "base",
   "language": "python",
   "name": "python3"
  },
  "language_info": {
   "codemirror_mode": {
    "name": "ipython",
    "version": 3
   },
   "file_extension": ".py",
   "mimetype": "text/x-python",
   "name": "python",
   "nbconvert_exporter": "python",
   "pygments_lexer": "ipython3",
   "version": "3.8.8"
  }
 },
 "nbformat": 4,
 "nbformat_minor": 2
}
