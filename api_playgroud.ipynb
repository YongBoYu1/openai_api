{
 "cells": [
  {
   "cell_type": "code",
   "execution_count": 2,
   "metadata": {},
   "outputs": [],
   "source": [
    "import openai\n",
    "import json\n",
    "import os"
   ]
  },
  {
   "cell_type": "code",
   "execution_count": 3,
   "metadata": {},
   "outputs": [],
   "source": [
    "# Reading api keys from file\n",
    "api_key = open('api_key.txt', 'r').read().strip('\\n')\n",
    "api_key\n",
    "openai.api_key = api_key"
   ]
  },
  {
   "cell_type": "markdown",
   "metadata": {},
   "source": [
    "## Basic usage\n",
    "The basic usage of the chatgpt, question answering...."
   ]
  },
  {
   "cell_type": "code",
   "execution_count": 4,
   "metadata": {},
   "outputs": [],
   "source": [
    "# This cell mimic one conversation between \n",
    "# a user and gpt\n",
    "\n",
    "conversation_history = []\n",
    "def build_chat(input, role='user'):\n",
    "    \"\"\"This function takes the user input string, return the reply from the GPT model, and save the input \n",
    "    and reply to the conversation history\n",
    "\n",
    "    Args:\n",
    "        input (str): The user input str, a question, or a request.\n",
    "        role (str, optional): _description_. Defaults to 'user'.\n",
    "\n",
    "    Returns:\n",
    "        str: The gpt reply content\n",
    "    \"\"\"\n",
    "    global conversation_history \n",
    "    conversation_history.append({\"role\": role, \"content\": input})\n",
    "\n",
    "    completion = openai.ChatCompletion.create(\n",
    "        model=\"gpt-3.5-turbo\",  #GPT Model\n",
    "        messages = conversation_history\n",
    "        )\n",
    "    \n",
    "    reply_str = completion['choices'][0]['message']['content']\n",
    "    conversation_history.append({\"role\": 'assistant', \"content\": reply_str})\n",
    "    return reply_str\n",
    "\n"
   ]
  },
  {
   "cell_type": "code",
   "execution_count": 5,
   "metadata": {},
   "outputs": [
    {
     "data": {
      "text/plain": [
       "\"I'm sorry, I cannot provide real-time information as my responses are based on pre-existing data. However, you can check the current weather in Toronto by using a weather website or app.\""
      ]
     },
     "execution_count": 5,
     "metadata": {},
     "output_type": "execute_result"
    }
   ],
   "source": [
    "build_chat(\"what is the weather like in Toronto?\")"
   ]
  },
  {
   "cell_type": "markdown",
   "metadata": {},
   "source": [
    "## Fucntion Calling\n",
    "Is like prompt the gpt model too extract the needed information for us. The function calling can return the list, dict data for us."
   ]
  },
  {
   "cell_type": "code",
   "execution_count": 6,
   "metadata": {},
   "outputs": [
    {
     "data": {
      "text/plain": [
       "\"To install TensorFlow for GPU, follow the steps below:\\n\\n1. Check GPU Compatibility: First, ensure that your GPU is compatible with TensorFlow. You can refer to the official TensorFlow documentation for a list of supported GPUs.\\n\\n2. Install NVIDIA GPU Drivers: Visit the NVIDIA website and download the latest drivers for your GPU model. Install the drivers according to the provided instructions.\\n\\n3. Install CUDA Toolkit: TensorFlow requires CUDA Toolkit for GPU support. Download the version of CUDA Toolkit specified in the TensorFlow documentation that matches your GPU driver compatibility. Install CUDA Toolkit following the provided instructions.\\n\\n4. Install cuDNN: cuDNN (CUDA Deep Neural Network) is a GPU-accelerated library. Download the compatible version from the NVIDIA website. You will need to create an account with NVIDIA's Developer Program to access cuDNN. Extract the downloaded files and follow the installation instructions mentioned in the cuDNN documentation.\\n\\n5. Create a Virtual Environment (optional): It is recommended to create a virtual environment before installing TensorFlow. You can use tools like `conda` or `virtualenv` to create a clean environment.\\n\\n6. Install TensorFlow: Open a command prompt or terminal in the desired virtual environment, and install TensorFlow using either `pip` or `conda`:\\n\\n   - For `pip`, use the command `pip install tensorflow-gpu`.\\n   - For `conda`, use the command `conda install tensorflow-gpu`.\\n\\n   This will install the GPU-enabled version of TensorFlow along with its dependencies.\\n\\n7. Verify the Installation: To ensure that TensorFlow is successfully installed with GPU support, you can run a simple TensorFlow script in Python that utilizes the GPU. For example:\\n\\n   ```python\\n   import tensorflow as tf\\n   \\n   tf.config.list_physical_devices('GPU')\\n   ```\\n\\n   If you see GPU information printed without any errors, it means TensorFlow is correctly installed and configured for GPU usage.\\n\\nMake sure to refer to the official TensorFlow documentation for any specific instructions or GPU requirements for the version of TensorFlow you plan to install.\""
      ]
     },
     "execution_count": 6,
     "metadata": {},
     "output_type": "execute_result"
    }
   ],
   "source": [
    "build_chat(\"How do I install Tensorflow for my GPU?\")"
   ]
  },
  {
   "cell_type": "markdown",
   "metadata": {},
   "source": [
    "## todo: Write to give py code uutilize the pandas, matplotlib.\n"
   ]
  },
  {
   "cell_type": "code",
   "execution_count": null,
   "metadata": {},
   "outputs": [],
   "source": [
    "\n",
    "completion = openai.ChatCompletion.create(\n",
    "    model=\"gpt-4-0613\",\n",
    "    messages=[{\"role\": \"user\", \"content\": example_user_input}],\n",
    "    functions=[\n",
    "    {\n",
    "        \"name\": \"get_varied_personality_responses\",\n",
    "        \"description\": \"ingest the various personality responses\",\n",
    "        \"parameters\": {\n",
    "            \"type\": \"object\",\n",
    "            \"properties\": {\n",
    "                \"sassy_and_sarcastic\": {\n",
    "                    \"type\": \"string\",\n",
    "                    \"description\": \"A sassy and sarcastic version of the response to a user's query\",\n",
    "                },\n",
    "                \"happy_and_helpful\": {\n",
    "                    \"type\": \"string\",\n",
    "                    \"description\": \"A happy and helpful version of the response to a user's query\",\n",
    "                },\n",
    "            },\n",
    "            \"required\": [\"sassy_and_sarcastic\", \"happy_and_helpful\"],\n",
    "        },\n",
    "    }\n",
    "        ],\n",
    "        function_call={\"name\": \"get_varied_personality_responses\"},\n",
    ")"
   ]
  },
  {
   "cell_type": "code",
   "execution_count": null,
   "metadata": {},
   "outputs": [],
   "source": [
    "functions = [\n",
    "    {\n",
    "        'name':'get_df_operation_code',\n",
    "        'description':'write a python script base on the requirement. As data scientist',\n",
    "        'parameters':{\n",
    "            'type':'object',\n",
    "            'properties':{\n",
    "                'spark_code':{\n",
    "                    'type': 'string',\n",
    "                    \"description\":'Use spark functions to handle dataframe operation'\n",
    "                },\n",
    "                'pandas_code':{\n",
    "                    'type': 'string',\n",
    "                    \"description\":'Use pandas package to handle dataframe operation'\n",
    "                },\n",
    "            },\n",
    "                \"required\": [\"spark_code\", \"pandas_code\"],\n",
    "        },\n",
    "    }\n",
    "    ],\n",
    "\n"
   ]
  },
  {
   "cell_type": "code",
   "execution_count": 9,
   "metadata": {},
   "outputs": [
    {
     "name": "stdout",
     "output_type": "stream",
     "text": [
      "To install TensorFlow for GPU, follow the steps below:\n",
      "\n",
      "1. Check GPU Compatibility: First, ensure that your GPU is compatible with TensorFlow. You can refer to the official TensorFlow documentation for a list of supported GPUs.\n",
      "\n",
      "2. Install NVIDIA GPU Drivers: Visit the NVIDIA website and download the latest drivers for your GPU model. Install the drivers according to the provided instructions.\n",
      "\n",
      "3. Install CUDA Toolkit: TensorFlow requires CUDA Toolkit for GPU support. Download the version of CUDA Toolkit specified in the TensorFlow documentation that matches your GPU driver compatibility. Install CUDA Toolkit following the provided instructions.\n",
      "\n",
      "4. Install cuDNN: cuDNN (CUDA Deep Neural Network) is a GPU-accelerated library. Download the compatible version from the NVIDIA website. You will need to create an account with NVIDIA's Developer Program to access cuDNN. Extract the downloaded files and follow the installation instructions mentioned in the cuDNN documentation.\n",
      "\n",
      "5. Create a Virtual Environment (optional): It is recommended to create a virtual environment before installing TensorFlow. You can use tools like `conda` or `virtualenv` to create a clean environment.\n",
      "\n",
      "6. Install TensorFlow: Open a command prompt or terminal in the desired virtual environment, and install TensorFlow using either `pip` or `conda`:\n",
      "\n",
      "   - For `pip`, use the command `pip install tensorflow-gpu`.\n",
      "   - For `conda`, use the command `conda install tensorflow-gpu`.\n",
      "\n",
      "   This will install the GPU-enabled version of TensorFlow along with its dependencies.\n",
      "\n",
      "7. Verify the Installation: To ensure that TensorFlow is successfully installed with GPU support, you can run a simple TensorFlow script in Python that utilizes the GPU. For example:\n",
      "\n",
      "   ```python\n",
      "   import tensorflow as tf\n",
      "   \n",
      "   tf.config.list_physical_devices('GPU')\n",
      "   ```\n",
      "\n",
      "   If you see GPU information printed without any errors, it means TensorFlow is correctly installed and configured for GPU usage.\n",
      "\n",
      "Make sure to refer to the official TensorFlow documentation for any specific instructions or GPU requirements for the version of TensorFlow you plan to install.\n"
     ]
    }
   ],
   "source": [
    "print(\"To install TensorFlow for GPU, follow the steps below:\\n\\n1. Check GPU Compatibility: First, ensure that your GPU is compatible with TensorFlow. You can refer to the official TensorFlow documentation for a list of supported GPUs.\\n\\n2. Install NVIDIA GPU Drivers: Visit the NVIDIA website and download the latest drivers for your GPU model. Install the drivers according to the provided instructions.\\n\\n3. Install CUDA Toolkit: TensorFlow requires CUDA Toolkit for GPU support. Download the version of CUDA Toolkit specified in the TensorFlow documentation that matches your GPU driver compatibility. Install CUDA Toolkit following the provided instructions.\\n\\n4. Install cuDNN: cuDNN (CUDA Deep Neural Network) is a GPU-accelerated library. Download the compatible version from the NVIDIA website. You will need to create an account with NVIDIA's Developer Program to access cuDNN. Extract the downloaded files and follow the installation instructions mentioned in the cuDNN documentation.\\n\\n5. Create a Virtual Environment (optional): It is recommended to create a virtual environment before installing TensorFlow. You can use tools like `conda` or `virtualenv` to create a clean environment.\\n\\n6. Install TensorFlow: Open a command prompt or terminal in the desired virtual environment, and install TensorFlow using either `pip` or `conda`:\\n\\n   - For `pip`, use the command `pip install tensorflow-gpu`.\\n   - For `conda`, use the command `conda install tensorflow-gpu`.\\n\\n   This will install the GPU-enabled version of TensorFlow along with its dependencies.\\n\\n7. Verify the Installation: To ensure that TensorFlow is successfully installed with GPU support, you can run a simple TensorFlow script in Python that utilizes the GPU. For example:\\n\\n   ```python\\n   import tensorflow as tf\\n   \\n   tf.config.list_physical_devices('GPU')\\n   ```\\n\\n   If you see GPU information printed without any errors, it means TensorFlow is correctly installed and configured for GPU usage.\\n\\nMake sure to refer to the official TensorFlow documentation for any specific instructions or GPU requirements for the version of TensorFlow you plan to install.\")"
   ]
  },
  {
   "cell_type": "code",
   "execution_count": null,
   "metadata": {},
   "outputs": [],
   "source": []
  }
 ],
 "metadata": {
  "kernelspec": {
   "display_name": "base",
   "language": "python",
   "name": "python3"
  },
  "language_info": {
   "codemirror_mode": {
    "name": "ipython",
    "version": 3
   },
   "file_extension": ".py",
   "mimetype": "text/x-python",
   "name": "python",
   "nbconvert_exporter": "python",
   "pygments_lexer": "ipython3",
   "version": "3.8.8"
  }
 },
 "nbformat": 4,
 "nbformat_minor": 2
}
