{
 "cells": [
  {
   "cell_type": "code",
   "execution_count": 24,
   "metadata": {},
   "outputs": [],
   "source": [
    "from pathlib import Path\n",
    "import openai\n",
    "import cv2\n",
    "import requests\n",
    "import io\n",
    "import tempfile"
   ]
  },
  {
   "cell_type": "code",
   "execution_count": 12,
   "metadata": {},
   "outputs": [],
   "source": [
    "# Reading api keys from file\n",
    "api_key = open('api_key.txt', 'r').read().strip('\\n')\n",
    "api_key\n",
    "openai.api_key = api_key"
   ]
  },
  {
   "cell_type": "code",
   "execution_count": 37,
   "metadata": {},
   "outputs": [],
   "source": [
    "def text_to_audio(text_input):\n",
    "    \"\"\"This function uses the tts-1 model from OPENAI to convert input str to audio and \n",
    "    save under test,\n",
    "\n",
    "    Args:\n",
    "        text_input (str): _description_\n",
    "    \"\"\"\n",
    "    response = requests.post(\n",
    "    'https://api.openai.com/v1/audio/speech',\n",
    "    headers={\n",
    "        \"Authorization\":f\"Bearer {api_key}\"\n",
    "    },\n",
    "    json = {\n",
    "        'model':'tts-1',\n",
    "        'input': text_input, #todo: change this to a variable\n",
    "        'voice':'nova', #check https://platform.openai.com/docs/guides/text-to-speech for voice samples\n",
    "    },\n",
    "    )\n",
    "    if response.status_code != 200:\n",
    "        print(\"Request failed !!\")\n",
    "        print(response.status_code)\n",
    "\n",
    "    audio_byte_io = io.BytesIO()\n",
    "    for chunk in response.iter_content(chunk_size=1024*1024):\n",
    "        audio_byte_io.write(chunk)\n",
    "        \n",
    "    audio_byte_io.seek(0)\n",
    "\n",
    "    with open('test_audio.wav', 'wb') as tmpFile:\n",
    "        for chunk in response.iter_content(chunk_size=1024*1024):\n",
    "            tmpFile.write(chunk)\n",
    "        audio_file_name = tmpFile.name\n",
    "    return audio_file_name, audio_byte_io"
   ]
  }
 ],
 "metadata": {
  "kernelspec": {
   "display_name": "base",
   "language": "python",
   "name": "python3"
  },
  "language_info": {
   "codemirror_mode": {
    "name": "ipython",
    "version": 3
   },
   "file_extension": ".py",
   "mimetype": "text/x-python",
   "name": "python",
   "nbconvert_exporter": "python",
   "pygments_lexer": "ipython3",
   "version": "3.8.8"
  }
 },
 "nbformat": 4,
 "nbformat_minor": 2
}
